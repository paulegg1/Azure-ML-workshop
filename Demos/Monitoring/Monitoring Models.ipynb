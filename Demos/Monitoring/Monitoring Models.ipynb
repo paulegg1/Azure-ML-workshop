{
  "cells": [
    {
      "attachments": {},
      "cell_type": "markdown",
      "source": [
        "# Monitoring Models\n",
        "\n",
        "\n",
        " \n",
        "> [!NOTE] Must use Python 3.10 SDK V2 for this demo."
      ],
      "metadata": {}
    },
    {
      "cell_type": "code",
      "source": [
        "# Install required packages\n",
        "%pip install scikit-learn"
      ],
      "outputs": [],
      "execution_count": null,
      "metadata": {
        "gather": {
          "logged": 1671029899495
        },
        "jupyter": {
          "outputs_hidden": false,
          "source_hidden": false
        },
        "nteract": {
          "transient": {
            "deleting": false
          }
        }
      }
    },
    {
      "cell_type": "markdown",
      "source": [
        "## Train a model"
      ],
      "metadata": {}
    },
    {
      "cell_type": "code",
      "source": [
        "# Handle to the workspace\n",
        "from azure.identity import DefaultAzureCredential\n",
        "from azure.ai.ml import MLClient\n",
        "import mlflow\n",
        "\n",
        "ml_client = MLClient.from_config(\n",
        "    DefaultAzureCredential()\n",
        ")"
      ],
      "outputs": [
        {
          "output_type": "stream",
          "name": "stderr",
          "text": "Found the config file in: /config.json\n"
        }
      ],
      "execution_count": 1,
      "metadata": {
        "gather": {
          "logged": 1672254367417
        }
      }
    },
    {
      "cell_type": "code",
      "source": [
        "# Gather MLflow URI information from workspace\n",
        "azureml_mlflow_uri = ml_client.workspaces.get(ml_client.workspace_name).mlflow_tracking_uri\n",
        "mlflow.set_tracking_uri(azureml_mlflow_uri)"
      ],
      "outputs": [],
      "execution_count": 2,
      "metadata": {
        "gather": {
          "logged": 1672254367686
        }
      }
    },
    {
      "cell_type": "code",
      "source": [
        "# Import python packages\n",
        "from sklearn.model_selection import train_test_split\n",
        "from sklearn.tree import DecisionTreeClassifier\n",
        "from sklearn.metrics import roc_auc_score, roc_curve\n",
        "import pandas as pd\n",
        "import numpy as np\n",
        "import joblib\n",
        "import os"
      ],
      "outputs": [],
      "execution_count": 3,
      "metadata": {
        "gather": {
          "logged": 1672254374404
        }
      }
    },
    {
      "cell_type": "markdown",
      "source": [
        "Set the experiment Name"
      ],
      "metadata": {}
    },
    {
      "cell_type": "code",
      "source": [
        "experiment_name = \"Monitoring-Models-Experiment\"\n",
        "mlflow.set_experiment(experiment_name)"
      ],
      "outputs": [
        {
          "output_type": "execute_result",
          "execution_count": 4,
          "data": {
            "text/plain": "<Experiment: artifact_location='', creation_time=1670393486970, experiment_id='f2954ed9-3d7a-46a9-a891-c008bf426cea', last_update_time=None, lifecycle_stage='active', name='Monitoring-Models-Experiment', tags={}>"
          },
          "metadata": {}
        }
      ],
      "execution_count": 4,
      "metadata": {
        "gather": {
          "logged": 1672254378378
        }
      }
    },
    {
      "cell_type": "markdown",
      "source": [
        "Upload data to datastore, and register it"
      ],
      "metadata": {}
    },
    {
      "cell_type": "code",
      "source": [
        "data_src = \"./data/diabetes-data\"\n",
        "os.makedirs(data_src, exist_ok=True)\n",
        "\n",
        "model_path = \"./models/monitoring\"\n",
        "os.makedirs(model_path, exist_ok=True)"
      ],
      "outputs": [],
      "execution_count": 5,
      "metadata": {
        "gather": {
          "logged": 1672254384292
        }
      }
    },
    {
      "cell_type": "code",
      "source": [
        "# Uncomment to download data files\n",
        "\n",
        "!curl --output-dir \"./data/diabetes-data/\" -O https://raw.githubusercontent.com/MicrosoftLearning/mslearn-dp100/main/data/diabetes.csv \n",
        "!curl --output-dir \"./data/diabetes-data/\" -O https://raw.githubusercontent.com/MicrosoftLearning/mslearn-dp100/main/data/diabetes2.csv "
      ],
      "outputs": [
        {
          "output_type": "stream",
          "name": "stdout",
          "text": "  % Total    % Received % Xferd  Average Speed   Time    Time     Time  Current\n                                 Dload  Upload   Total   Spent    Left  Speed\n100  505k  100  505k    0     0  1779k      0 --:--:-- --:--:-- --:--:-- 1780k\n  % Total    % Received % Xferd  Average Speed   Time    Time     Time  Current\n                                 Dload  Upload   Total   Spent    Left  Speed\n100  252k  100  252k    0     0   824k      0 --:--:-- --:--:-- --:--:--  823k\n"
        }
      ],
      "execution_count": 6,
      "metadata": {
        "gather": {
          "logged": 1672254388860
        }
      }
    },
    {
      "cell_type": "markdown",
      "source": [
        "Start logging with MLflow"
      ],
      "metadata": {}
    },
    {
      "cell_type": "code",
      "source": [
        "# start Logging\n",
        "mlflow.start_run()\n",
        "\n",
        "# enable autologging\n",
        "# mlflow.sklearn.autolog()\n",
        "\n",
        "# read csv data from local directory\n",
        "data_set = pd.read_csv(data_src + \"/diabetes.csv\")\n",
        "\n",
        "diabetes = data_set\n",
        "\n",
        "#breaking up data into input/target features\n",
        "X, y = diabetes[['Pregnancies','PlasmaGlucose','DiastolicBloodPressure','TricepsThickness','SerumInsulin','BMI','DiabetesPedigree','Age']].values, diabetes['Diabetic'].values\n",
        "\n",
        "#breaking data into training and testing\n",
        "X_train, X_test, y_train, y_test = train_test_split(X, y, test_size=0.30, random_state=0)\n",
        "\n",
        "#training a model:\n",
        "model = DecisionTreeClassifier().fit(X_train, y_train)\n",
        "\n",
        "#calculating performance and logging them\n",
        "y_hat = model.predict(X_test)\n",
        "acc = np.average(y_hat == y_test)\n",
        "mlflow.log_metric('Accuracy', float(acc))\n",
        "\n",
        "y_scores = model.predict_proba(X_test)\n",
        "auc = roc_auc_score(y_test,y_scores[:,1])\n",
        "mlflow.log_metric('AUC', float(auc))\n",
        "\n",
        "# registering the model to the workspace\n",
        "print(\"Registering the model via MLFlow\")\n",
        "mlflow.sklearn.log_model(\n",
        "    sk_model=model,\n",
        "    registered_model_name=\"monitoring-diabetes-clr-mdl\",\n",
        "    artifact_path=\"monitoring-diabetes-clr-mdl\",\n",
        ")\n",
        "\n",
        "# saving the model to a file\n",
        "mlflow.sklearn.save_model(\n",
        "    sk_model=model, \n",
        "    path=model_path,\n",
        ")\n",
        "\n",
        "# stop logging\n",
        "mlflow.end_run()"
      ],
      "outputs": [
        {
          "output_type": "stream",
          "name": "stdout",
          "text": "Registering the model via MLFlow\n"
        },
        {
          "output_type": "stream",
          "name": "stderr",
          "text": "/anaconda/envs/azureml_py310_sdkv2/lib/python3.10/site-packages/_distutils_hack/__init__.py:33: UserWarning: Setuptools is replacing distutils.\n  warnings.warn(\"Setuptools is replacing distutils.\")\nRegistered model 'monitoring-diabetes-clr-mdl' already exists. Creating a new version of this model...\n2022/12/28 19:06:43 INFO mlflow.tracking._model_registry.client: Waiting up to 300 seconds for model version to finish creation.                     Model name: monitoring-diabetes-clr-mdl, version 4\nCreated version '4' of model 'monitoring-diabetes-clr-mdl'.\n"
        }
      ],
      "execution_count": 7,
      "metadata": {
        "gather": {
          "logged": 1672254406487
        }
      }
    },
    {
      "attachments": {},
      "cell_type": "markdown",
      "source": [
        "## Deploy a Model\n",
        "\n",
        "You can check the **Models** page on Azure ML studio, to identify the latest version of your registered model. \n",
        "\n",
        "<img title=\"ws-model-registered\" src=\"Media/ws-model-registered.png\">\n",
        "\n",
        "Alternatively, the code below will retrieve the latest version number for you to use."
      ],
      "metadata": {}
    },
    {
      "cell_type": "code",
      "source": [
        "# name the model you registered earlier in the training script\n",
        "registered_model_name = \"monitoring-diabetes-clr-mdl\"\n",
        "\n",
        "# Let's pick the latest version of the model\n",
        "latest_model_version = max(\n",
        "    [int(m.version) for m in ml_client.models.list(name=registered_model_name)]\n",
        ")"
      ],
      "outputs": [],
      "execution_count": 11,
      "metadata": {
        "gather": {
          "logged": 1672254522629
        }
      }
    },
    {
      "cell_type": "markdown",
      "source": [
        "Create an Online endpoint"
      ],
      "metadata": {}
    },
    {
      "cell_type": "code",
      "source": [
        "from azure.ai.ml.entities import (\n",
        "    ManagedOnlineEndpoint,\n",
        "    ManagedOnlineDeployment,\n",
        "    Model,\n",
        ")"
      ],
      "outputs": [],
      "execution_count": 13,
      "metadata": {
        "gather": {
          "logged": 1672259651813
        }
      }
    },
    {
      "cell_type": "markdown",
      "source": [
        "Configure the endpoint"
      ],
      "metadata": {}
    },
    {
      "cell_type": "code",
      "source": [
        "# Creating a unique online endpoint name with current datetime to avoid conflicts\n",
        "import datetime\n",
        "\n",
        "online_endpoint_name = \"clr-diabetes-\" + datetime.datetime.now().strftime(\"%m%d%H%M%f\")\n",
        "\n",
        "# create an online endpoint\n",
        "endpoint = ManagedOnlineEndpoint(\n",
        "  name=online_endpoint_name,\n",
        "  description=\"This is a diabetes classifier online endpoint\",\n",
        "  auth_mode=\"key\",\n",
        "  tags={\n",
        "      \"training_dataset\": \"diabetes-data\",\n",
        "      \"model_type\": \"sklearn.DecisionTreeClassifier\",\n",
        "  },\n",
        ")\n",
        "\n",
        "endpoint = ml_client.begin_create_or_update(endpoint)"
      ],
      "outputs": [],
      "execution_count": 14,
      "metadata": {
        "gather": {
          "logged": 1672259667888
        }
      }
    },
    {
      "attachments": {},
      "cell_type": "markdown",
      "source": [
        "> [!NOTE] Make sure to wait for a notification that the endpoint has completed deployment.\n",
        "\n",
        "<img title=\"Endpoint Deployment\" src=\"Media/endpoint-deployment-succeeded.png\">\n",
        "\n",
        "<img title=\"Endpoint Deployment\" src=\"Media/endpoint-deployment-succeeded_notification.png\">"
      ],
      "metadata": {
        "nteract": {
          "transient": {
            "deleting": false
          }
        }
      }
    },
    {
      "cell_type": "markdown",
      "source": [
        "### Deploy the model to the endpoint\n",
        "\n",
        "Once the endpoint is created, deploy the model with the entry script. Each endpoint can have multiple deployments. Direct traffic to these deployments can be specified using rules. Here you'll create a single deployment that handles 100% of the incoming traffic. We have chosen a color name for the deployment, for example, *blue*, *green*, *red* deployments, which is arbitrary.\n",
        "Deploy the latest version of the model.  \n",
        "\n",
        "> [!NOTE]\n",
        "> Replace the endpoint name with the endpoint configured in the previous step.\n",
        "> Expect this deployment to take approximately 6 to 8 minutes."
      ],
      "metadata": {}
    },
    {
      "cell_type": "markdown",
      "source": [
        "Create a red deployment\n"
      ],
      "metadata": {}
    },
    {
      "cell_type": "code",
      "source": [
        "import time\n",
        "\n",
        "model = ml_client.models.get(name=registered_model_name, version=latest_model_version)\n",
        "\n",
        "red_deployment = ManagedOnlineDeployment(\n",
        "    name=\"red\",\n",
        "    #Replace the endpoint name below\n",
        "    endpoint_name=\"clr-diabetes-12282034411976\",\n",
        "    model=model,\n",
        "    instance_type=\"Standard_F4s_v2\",\n",
        "    instance_count=1,\n",
        "    app_insights_enabled=True,\n",
        ")\n",
        "\n",
        "try:\n",
        "    ml_client.online_deployments.begin_create_or_update(red_deployment)\n",
        "    print(\"Creating red deployment on endpoint\")\n",
        "except Exception as e:\n",
        "    print(e)\n",
        "    print(\"Waiting 3 Minutes...\")\n",
        "    time.sleep(180)\n",
        "    ml_client.online_deployments.begin_create_or_update(red_deployment)\n",
        "    print(\"Creating red deployment on endpoint\")\n"
      ],
      "outputs": [
        {
          "output_type": "stream",
          "name": "stderr",
          "text": "Check: endpoint clr-diabetes-12282034411976 exists\ndata_collector is not a known attribute of class <class 'azure.ai.ml._restclient.v2022_02_01_preview.models._models_py3.ManagedOnlineDeployment'> and will be ignored\n"
        }
      ],
      "execution_count": 16,
      "metadata": {
        "gather": {
          "logged": 1672261087126
        }
      }
    },
    {
      "attachments": {},
      "cell_type": "markdown",
      "source": [
        "> [!Note] You can view the current provision status on the red deployment on the **Endpoint** Tab on the right hand side. \n",
        "\n",
        "Remember to wait for the deployment to be completed before moving to the next cell.\n",
        "\n",
        "<img title=\"Endpoint Provision Pending Status\" src=\"Media/endpoint-provision-status-pending.png\">\n"
      ],
      "metadata": {
        "nteract": {
          "transient": {
            "deleting": false
          }
        }
      }
    },
    {
      "cell_type": "markdown",
      "source": [
        "Managing endpoints and deployments"
      ],
      "metadata": {}
    },
    {
      "cell_type": "code",
      "source": [
        "# Get the details for online endpoint\n",
        "endpoint = ml_client.online_endpoints.get(name=online_endpoint_name)\n",
        "\n",
        "# existing traffic details\n",
        "print(endpoint.traffic)\n",
        "\n",
        "# Get the scoring URI\n",
        "print(endpoint.scoring_uri)"
      ],
      "outputs": [
        {
          "output_type": "stream",
          "name": "stdout",
          "text": "{'red': 0}\nhttps://clr-diabetes-12282034411976.southcentralus.inference.ml.azure.com/score\n"
        }
      ],
      "execution_count": 17,
      "metadata": {
        "gather": {
          "logged": 1672261796491
        }
      }
    },
    {
      "attachments": {},
      "cell_type": "markdown",
      "source": [
        "Now to increase the traffic to our new red deployment."
      ],
      "metadata": {}
    },
    {
      "cell_type": "code",
      "source": [
        "endpoint.traffic = {\"red\": 100}"
      ],
      "outputs": [],
      "execution_count": 18,
      "metadata": {
        "gather": {
          "logged": 1672261806083
        }
      }
    },
    {
      "attachments": {},
      "cell_type": "markdown",
      "source": [
        "Wait until both the endpoint and deployment are in the provisioned state. Then run the next cell."
      ],
      "metadata": {}
    },
    {
      "cell_type": "code",
      "source": [
        "ml_client.begin_create_or_update(endpoint)"
      ],
      "outputs": [
        {
          "output_type": "stream",
          "name": "stderr",
          "text": "Readonly attribute principal_id will be ignored in class <class 'azure.ai.ml._restclient.v2022_05_01.models._models_py3.ManagedServiceIdentity'>\nReadonly attribute tenant_id will be ignored in class <class 'azure.ai.ml._restclient.v2022_05_01.models._models_py3.ManagedServiceIdentity'>\n"
        },
        {
          "output_type": "execute_result",
          "execution_count": 19,
          "data": {
            "text/plain": "<azure.core.polling._poller.LROPoller at 0x7f9ce55d9cc0>"
          },
          "metadata": {}
        }
      ],
      "execution_count": 19,
      "metadata": {
        "gather": {
          "logged": 1672261817962
        }
      }
    },
    {
      "attachments": {},
      "cell_type": "markdown",
      "source": [
        "When completed, it show look like this.\n",
        "\n",
        "<img title=\"Endpoint Provision Status\" src=\"Media/endpoint-provision-status.png\">"
      ],
      "metadata": {}
    },
    {
      "attachments": {},
      "cell_type": "markdown",
      "source": [
        "## Use the Model\n",
        "\n",
        "Make sure to capture the API key from the **Endpoint** '**Consume**' page. Replace it with the code below for api_key\n",
        "\n",
        "\n",
        "<img title=\"Endpoint Details\" src=\"Media/endpoint-details-page.png\">\n",
        "\n"
      ],
      "metadata": {}
    },
    {
      "cell_type": "code",
      "source": [
        "import urllib.request\n",
        "import json\n",
        "import os\n",
        "import ssl\n",
        "\n",
        "def allowSelfSignedHttps(allowed):\n",
        "    # bypass the server certificate verification on client side\n",
        "    if allowed and not os.environ.get('PYTHONHTTPSVERIFY', '') and getattr(ssl, '_create_unverified_context', None):\n",
        "        ssl._create_default_https_context = ssl._create_unverified_context\n",
        "\n",
        "allowSelfSignedHttps(True) # this line is needed if you use self-signed certificate in your scoring service.\n",
        "\n",
        "# Request data goes here\n",
        "# The example below assumes JSON formatting which may be updated\n",
        "# depending on the format your endpoint expects.\n",
        "# More information can be found here:\n",
        "# https://docs.microsoft.com/azure/machine-learning/how-to-deploy-advanced-entry-script\n",
        "\n",
        "#generating new data to use in querying\n",
        "x_new = [[2,180,74,24,21,23.9091702,1.488172308,22],\n",
        "        [4,96,83,26,34,52.94533137,0.160199188,53],\n",
        "        [1,125,83,41,235,19.65795152,0.150529189,23],\n",
        "        [3,106,83,39,223,31.77645097,0.877332438,22],\n",
        "        [0,148,58,11,179,39.19207553,0.160829008,45]]\n",
        "\n",
        "data =  {\"input_data\": x_new}\n",
        "\n",
        "body = str.encode(json.dumps(data))\n",
        "\n",
        "url = endpoint.scoring_uri\n",
        "api_key = 'PYcl229pEedyj8YtZRqu4QJW7rxnpoaF' # Replace this with the API key for the web service\n",
        "\n",
        "# The azureml-model-deployment header will force the request to go to a specific deployment.\n",
        "# Remove this header to have the request observe the endpoint traffic rules\n",
        "headers = {'Content-Type':'application/json', 'Authorization':('Bearer '+ api_key), 'azureml-model-deployment': 'red' }\n",
        "\n",
        "req = urllib.request.Request(url, body, headers)\n",
        "\n",
        "try:\n",
        "    response = urllib.request.urlopen(req)\n",
        "    result = response.read()\n",
        "    predicted_classes = json.loads(result.decode())\n",
        "    for i in range(len(x_new)):\n",
        "        print (\"Patient {}\".format(x_new[i]), predicted_classes[i] )\n",
        "\n",
        "except urllib.error.HTTPError as error:\n",
        "    print(\"The request failed with status code: \" + str(error.code))\n",
        "\n",
        "    # Print the headers - they include the requert ID and the timestamp, which are useful for debugging the failure\n",
        "    print(error.info())\n",
        "    print(error.read().decode(\"utf8\", 'ignore'))"
      ],
      "outputs": [
        {
          "output_type": "stream",
          "name": "stdout",
          "text": "Patient [2, 180, 74, 24, 21, 23.9091702, 1.488172308, 22] 1\nPatient [4, 96, 83, 26, 34, 52.94533137, 0.160199188, 53] 1\nPatient [1, 125, 83, 41, 235, 19.65795152, 0.150529189, 23] 0\nPatient [3, 106, 83, 39, 223, 31.77645097, 0.877332438, 22] 1\nPatient [0, 148, 58, 11, 179, 39.19207553, 0.160829008, 45] 0\n"
        }
      ],
      "execution_count": 20,
      "metadata": {
        "gather": {
          "logged": 1672261917378
        }
      }
    },
    {
      "attachments": {},
      "cell_type": "markdown",
      "source": [
        "## Conclusion\n",
        "\n",
        "Now, we can navigate back to the Azure Portal, and look at the corresponding results in Application Insights.\n",
        "\n",
        "<img src=\"Media/endpoint-deployment-metrics.png\">\n",
        "\n",
        "\n",
        "Or be sure to look for the Applications Insight instance that was created along side the Azure Machine Learning Workspace as an alternative.\n",
        "\n",
        "<img src=\"Media/azure-app-insight.png\">\n",
        "\n",
        "To view the Transactions, click on the **Investigate** category for more details.\n",
        "\n",
        "<img src=\"Media/azure-app-insight-transaction.png\">\n",
        "\n",
        "Try selecting one of the results for more details.\n",
        "\n",
        "<img src=\"Media/azure-app-insight-transaction-results.png\">\n",
        "\n",
        "View the logs by selecting the desired operation within the **Performance** tab.\n",
        "\n",
        "<img src=\"Media/azure-app-insight-performance.png\">\n",
        "\n",
        "Check out the query results from Azure Log Analytics\n",
        "\n",
        "<img src=\"Media/logs-kql-commands.png\">"
      ],
      "metadata": {}
    }
  ],
  "metadata": {
    "kernel_info": {
      "name": "python310-sdkv2"
    },
    "kernelspec": {
      "name": "python310-sdkv2",
      "language": "python",
      "display_name": "Python 3.10 - SDK V2"
    },
    "language_info": {
      "name": "python",
      "version": "3.10.6",
      "mimetype": "text/x-python",
      "codemirror_mode": {
        "name": "ipython",
        "version": 3
      },
      "pygments_lexer": "ipython3",
      "nbconvert_exporter": "python",
      "file_extension": ".py"
    },
    "microsoft": {
      "host": {
        "AzureML": {
          "notebookHasBeenCompleted": true
        }
      }
    },
    "nteract": {
      "version": "nteract-front-end@1.0.0"
    },
    "orig_nbformat": 4,
    "vscode": {
      "interpreter": {
        "hash": "bd2f20a2ae7e9e927b52643942994f3aab4e8a0fff0d99512b6bf37211656242"
      }
    }
  },
  "nbformat": 4,
  "nbformat_minor": 2
}